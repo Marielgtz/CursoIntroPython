{
  "nbformat": 4,
  "nbformat_minor": 0,
  "metadata": {
    "colab": {
      "name": "Untitled0.ipynb",
      "provenance": [],
      "authorship_tag": "ABX9TyM3a00fudu9R5Noy5iN03sK",
      "include_colab_link": true
    },
    "kernelspec": {
      "name": "python3",
      "display_name": "Python 3"
    },
    "language_info": {
      "name": "python"
    }
  },
  "cells": [
    {
      "cell_type": "markdown",
      "metadata": {
        "id": "view-in-github",
        "colab_type": "text"
      },
      "source": [
        "<a href=\"https://colab.research.google.com/github/Marielgtz/CursoIntroPython/blob/main/Conversor%20de%20monedas.ipynb\" target=\"_parent\"><img src=\"https://colab.research.google.com/assets/colab-badge.svg\" alt=\"Open In Colab\"/></a>"
      ]
    },
    {
      "cell_type": "markdown",
      "source": [
        ""
      ],
      "metadata": {
        "id": "GAeWOFhUqfu3"
      }
    },
    {
      "cell_type": "code",
      "source": [
        "pesos= input(\"¿cuantos pesos colombianos tienes?: \")\n",
        "pesos= float (pesos)\n",
        "valor_dolar = 3875\n",
        "dolares = pesos / valor_dolar\n",
        "dolares= round (dolares, 2) \n",
        "dolares = str (dolares)\n",
        "print(\"Tienes $\" + dolares+ \"dolares\")"
      ],
      "metadata": {
        "id": "QLEH4MlFRFDO",
        "colab": {
          "base_uri": "https://localhost:8080/"
        },
        "outputId": "5ff60844-398d-4e02-b413-3b71c8590b1b"
      },
      "execution_count": null,
      "outputs": [
        {
          "output_type": "stream",
          "name": "stdout",
          "text": [
            "¿cuantos pesos colombianos tienes?: 10000\n",
            "Tienes $2.58dolares\n"
          ]
        }
      ]
    },
    {
      "cell_type": "code",
      "source": [
        ""
      ],
      "metadata": {
        "id": "Yf4QIcO2-5P_"
      },
      "execution_count": null,
      "outputs": []
    }
  ]
}